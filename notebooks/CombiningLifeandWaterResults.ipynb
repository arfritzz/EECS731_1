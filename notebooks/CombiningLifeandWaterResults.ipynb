{
 "cells": [
  {
   "cell_type": "markdown",
   "metadata": {},
   "source": [
    "# Benefits of Clean Drinking Water for Longer Life Expectancy"
   ]
  },
  {
   "cell_type": "markdown",
   "metadata": {},
   "source": [
    "In this project, I choose to look at the industry of public health. Specifically, I wanted to analyze the impact that clean drinking water has on life expectancy. I started by looking at the average life expectancy of people in the United States. I then looked at the raw data to see about other countries life expectancies. Nigeria, an African country, has a much lower life expectancy. As I thought about this more, I remembered things I had read the Gates Foundation and their work in helping developing counties. They speculated that some countries did not have the resources to properly dispose of thier waste, causing people to get sick from using the contaminated water to bathe and other chores. So, as the Gates Foundation analyzed the cause of water born diseases, I thought I could look at the effects of clean drinking water on life expectancy. I look at the trend in the life expectancy in Nigeria and saw that the average age for life expectancy has been increasing over the past 15 years as the percentage of people drinking clean water has also increased. I then compared those numbers to the percentage of people in the United States with clean drinking water and the United State's life expectancy. The United States averaged around 99% clean drinking water and a much higher life expectancy. I concluded that having access to clean drinking water could be a factor that increases life expectancy. "
   ]
  },
  {
   "cell_type": "code",
   "execution_count": 1,
   "metadata": {},
   "outputs": [],
   "source": [
    "import pandas as pd"
   ]
  },
  {
   "cell_type": "code",
   "execution_count": 2,
   "metadata": {},
   "outputs": [],
   "source": [
    "import numpy as np"
   ]
  },
  {
   "cell_type": "code",
   "execution_count": 3,
   "metadata": {},
   "outputs": [],
   "source": [
    "import matplotlib.pyplot as plt"
   ]
  },
  {
   "cell_type": "markdown",
   "metadata": {},
   "source": [
    "To begin this project, I first imported the raw data. The water_N and life_N is the data for the percentage of people who have access to clean water and the average life expectancy for people in Nigeria. I have formatted the data and did some preemtive analysis in the notebooks `LifeExpectancy_Nigeria` `LifeExpectancy_US` `PercentWithSafeWater_Nigeria` and `PercentWithSafeWater_US`. These notebooks can be found in the `src` or `notebooks` folder and the raw data can be found in the `data` folder. "
   ]
  },
  {
   "cell_type": "markdown",
   "metadata": {},
   "source": [
    "Trimming the data required deleting all the years when no data was gathered and all the countries which I was not analyzing. It seemed that almost every country was on the list but I was only interested in the United States and Nigeria.  Also, when I recieved the data, there were many years that no data was collected. These years ranged from 1960 to 2000. Since there was no data for the US and Nigeria during those times, I dropped those years."
   ]
  },
  {
   "cell_type": "code",
   "execution_count": 4,
   "metadata": {},
   "outputs": [],
   "source": [
    "water_N = pd.read_csv('~/Documents/EECS/EECS_731/HW/EECS731_1/data/water_N.csv')"
   ]
  },
  {
   "cell_type": "code",
   "execution_count": 5,
   "metadata": {},
   "outputs": [],
   "source": [
    "life_N = pd.read_csv('~/Documents/EECS/EECS_731/HW/EECS731_1/data/life_N.csv')"
   ]
  },
  {
   "cell_type": "markdown",
   "metadata": {},
   "source": [
    "I concattenated the data for safe water and life expectancy to make one table. "
   ]
  },
  {
   "cell_type": "code",
   "execution_count": 6,
   "metadata": {},
   "outputs": [],
   "source": [
    "result_N = pd.concat([water_N,life_N], axis=1, sort=False)"
   ]
  },
  {
   "cell_type": "code",
   "execution_count": 7,
   "metadata": {},
   "outputs": [],
   "source": [
    "result_N = result_N.drop(columns=\"Unnamed: 0\")"
   ]
  },
  {
   "cell_type": "code",
   "execution_count": 8,
   "metadata": {},
   "outputs": [],
   "source": [
    "result_N = result_N.drop(columns=\"Year\")"
   ]
  },
  {
   "cell_type": "code",
   "execution_count": 9,
   "metadata": {},
   "outputs": [],
   "source": [
    "result_N.insert(2,\"Year\", [2001,2002,2003,2004,2005,2006,2007,2008,2009,2010,2011,2012,2013,2014,2015,2016,2017], True)"
   ]
  },
  {
   "cell_type": "code",
   "execution_count": 10,
   "metadata": {},
   "outputs": [],
   "source": [
    "result_N = result_N.drop(columns=\"Country Name\")"
   ]
  },
  {
   "cell_type": "code",
   "execution_count": 11,
   "metadata": {},
   "outputs": [],
   "source": [
    "result_N.set_index('Year', inplace=True)"
   ]
  },
  {
   "cell_type": "code",
   "execution_count": 12,
   "metadata": {},
   "outputs": [],
   "source": [
    "result_N = result_N.rename(columns={'Percent Safe Water':'Percent Drinking Safe Water (N)'})"
   ]
  },
  {
   "cell_type": "code",
   "execution_count": 13,
   "metadata": {},
   "outputs": [],
   "source": [
    "result_N = result_N.rename(columns={'Average Age':'Average Life Expectancy (N)'})"
   ]
  },
  {
   "cell_type": "markdown",
   "metadata": {},
   "source": [
    "### Percentage of People Drinking Safe Water and the Average Life Expectancy per Year for Nigeria"
   ]
  },
  {
   "cell_type": "code",
   "execution_count": 14,
   "metadata": {},
   "outputs": [
    {
     "data": {
      "text/html": [
       "<div>\n",
       "<style scoped>\n",
       "    .dataframe tbody tr th:only-of-type {\n",
       "        vertical-align: middle;\n",
       "    }\n",
       "\n",
       "    .dataframe tbody tr th {\n",
       "        vertical-align: top;\n",
       "    }\n",
       "\n",
       "    .dataframe thead th {\n",
       "        text-align: right;\n",
       "    }\n",
       "</style>\n",
       "<table border=\"1\" class=\"dataframe\">\n",
       "  <thead>\n",
       "    <tr style=\"text-align: right;\">\n",
       "      <th></th>\n",
       "      <th>Percent Drinking Safe Water (N)</th>\n",
       "      <th>Average Life Expectancy (N)</th>\n",
       "    </tr>\n",
       "    <tr>\n",
       "      <th>Year</th>\n",
       "      <th></th>\n",
       "      <th></th>\n",
       "    </tr>\n",
       "  </thead>\n",
       "  <tbody>\n",
       "    <tr>\n",
       "      <th>2001</th>\n",
       "      <td>15.747336</td>\n",
       "      <td>46.510</td>\n",
       "    </tr>\n",
       "    <tr>\n",
       "      <th>2002</th>\n",
       "      <td>16.064639</td>\n",
       "      <td>46.835</td>\n",
       "    </tr>\n",
       "    <tr>\n",
       "      <th>2003</th>\n",
       "      <td>16.376387</td>\n",
       "      <td>47.242</td>\n",
       "    </tr>\n",
       "    <tr>\n",
       "      <th>2004</th>\n",
       "      <td>16.682519</td>\n",
       "      <td>47.720</td>\n",
       "    </tr>\n",
       "    <tr>\n",
       "      <th>2005</th>\n",
       "      <td>16.982870</td>\n",
       "      <td>48.252</td>\n",
       "    </tr>\n",
       "    <tr>\n",
       "      <th>2006</th>\n",
       "      <td>17.277628</td>\n",
       "      <td>48.812</td>\n",
       "    </tr>\n",
       "    <tr>\n",
       "      <th>2007</th>\n",
       "      <td>17.566862</td>\n",
       "      <td>49.373</td>\n",
       "    </tr>\n",
       "    <tr>\n",
       "      <th>2008</th>\n",
       "      <td>17.850645</td>\n",
       "      <td>49.913</td>\n",
       "    </tr>\n",
       "    <tr>\n",
       "      <th>2009</th>\n",
       "      <td>18.128638</td>\n",
       "      <td>50.422</td>\n",
       "    </tr>\n",
       "    <tr>\n",
       "      <th>2010</th>\n",
       "      <td>18.401244</td>\n",
       "      <td>50.896</td>\n",
       "    </tr>\n",
       "    <tr>\n",
       "      <th>2011</th>\n",
       "      <td>18.667351</td>\n",
       "      <td>51.346</td>\n",
       "    </tr>\n",
       "    <tr>\n",
       "      <th>2012</th>\n",
       "      <td>18.927109</td>\n",
       "      <td>51.786</td>\n",
       "    </tr>\n",
       "    <tr>\n",
       "      <th>2013</th>\n",
       "      <td>19.180478</td>\n",
       "      <td>52.228</td>\n",
       "    </tr>\n",
       "    <tr>\n",
       "      <th>2014</th>\n",
       "      <td>19.427614</td>\n",
       "      <td>52.672</td>\n",
       "    </tr>\n",
       "    <tr>\n",
       "      <th>2015</th>\n",
       "      <td>19.668675</td>\n",
       "      <td>53.112</td>\n",
       "    </tr>\n",
       "    <tr>\n",
       "      <th>2016</th>\n",
       "      <td>19.903542</td>\n",
       "      <td>53.541</td>\n",
       "    </tr>\n",
       "    <tr>\n",
       "      <th>2017</th>\n",
       "      <td>20.132560</td>\n",
       "      <td>53.950</td>\n",
       "    </tr>\n",
       "  </tbody>\n",
       "</table>\n",
       "</div>"
      ],
      "text/plain": [
       "      Percent Drinking Safe Water (N)  Average Life Expectancy (N)\n",
       "Year                                                              \n",
       "2001                        15.747336                       46.510\n",
       "2002                        16.064639                       46.835\n",
       "2003                        16.376387                       47.242\n",
       "2004                        16.682519                       47.720\n",
       "2005                        16.982870                       48.252\n",
       "2006                        17.277628                       48.812\n",
       "2007                        17.566862                       49.373\n",
       "2008                        17.850645                       49.913\n",
       "2009                        18.128638                       50.422\n",
       "2010                        18.401244                       50.896\n",
       "2011                        18.667351                       51.346\n",
       "2012                        18.927109                       51.786\n",
       "2013                        19.180478                       52.228\n",
       "2014                        19.427614                       52.672\n",
       "2015                        19.668675                       53.112\n",
       "2016                        19.903542                       53.541\n",
       "2017                        20.132560                       53.950"
      ]
     },
     "execution_count": 14,
     "metadata": {},
     "output_type": "execute_result"
    }
   ],
   "source": [
    "result_N"
   ]
  },
  {
   "cell_type": "markdown",
   "metadata": {},
   "source": [
    "I then plotted the data to determine that as the percentage of people drinking clean water increases, the average life expectancy increases. "
   ]
  },
  {
   "cell_type": "code",
   "execution_count": 15,
   "metadata": {},
   "outputs": [
    {
     "data": {
      "text/plain": [
       "<matplotlib.axes._subplots.AxesSubplot at 0x11ea516d0>"
      ]
     },
     "execution_count": 15,
     "metadata": {},
     "output_type": "execute_result"
    },
    {
     "data": {
      "image/png": "[encoded data removed]",
      "text/plain": [
       "<Figure size 432x288 with 1 Axes>"
      ]
     },
     "metadata": {
      "needs_background": "light"
     },
     "output_type": "display_data"
    }
   ],
   "source": [
    "result_N.plot(y=['Average Life Expectancy (N)', 'Percent Drinking Safe Water (N)'], title='Nigeria')"
   ]
  },
  {
   "cell_type": "markdown",
   "metadata": {},
   "source": [
    "I visualized that the average life expectany increases as the amount of people drinking safe water increases in Nigeria. This confirmed my inital thoughts. After looking at the trend in data for Nigeria, I decided to look at the trends for the United States. "
   ]
  },
  {
   "cell_type": "code",
   "execution_count": 16,
   "metadata": {},
   "outputs": [],
   "source": [
    "water_US = pd.read_csv('~/Documents/EECS/EECS_731/HW/EECS731_1/data/water_US.csv')"
   ]
  },
  {
   "cell_type": "code",
   "execution_count": 17,
   "metadata": {},
   "outputs": [],
   "source": [
    "life_US = pd.read_csv('~/Documents/EECS/EECS_731/HW/EECS731_1/data/life_US.csv')"
   ]
  },
  {
   "cell_type": "code",
   "execution_count": 18,
   "metadata": {},
   "outputs": [],
   "source": [
    "life_US = life_US.drop(columns=\"Unnamed: 0\")"
   ]
  },
  {
   "cell_type": "code",
   "execution_count": 19,
   "metadata": {},
   "outputs": [],
   "source": [
    "water_US = water_US.drop(columns=\"Unnamed: 0\")"
   ]
  },
  {
   "cell_type": "code",
   "execution_count": 20,
   "metadata": {},
   "outputs": [],
   "source": [
    "water_US.set_index('Year', inplace=True)"
   ]
  },
  {
   "cell_type": "code",
   "execution_count": 21,
   "metadata": {},
   "outputs": [],
   "source": [
    "life_US.set_index('Year', inplace=True)"
   ]
  },
  {
   "cell_type": "markdown",
   "metadata": {},
   "source": [
    "I combined the data for life expectancy and percentage of people drinking clean water. "
   ]
  },
  {
   "cell_type": "code",
   "execution_count": 22,
   "metadata": {},
   "outputs": [],
   "source": [
    "result_US = pd.concat([water_US,life_US], axis=1, sort=False)"
   ]
  },
  {
   "cell_type": "code",
   "execution_count": 23,
   "metadata": {
    "scrolled": true
   },
   "outputs": [
    {
     "data": {
      "text/html": [
       "<div>\n",
       "<style scoped>\n",
       "    .dataframe tbody tr th:only-of-type {\n",
       "        vertical-align: middle;\n",
       "    }\n",
       "\n",
       "    .dataframe tbody tr th {\n",
       "        vertical-align: top;\n",
       "    }\n",
       "\n",
       "    .dataframe thead th {\n",
       "        text-align: right;\n",
       "    }\n",
       "</style>\n",
       "<table border=\"1\" class=\"dataframe\">\n",
       "  <thead>\n",
       "    <tr style=\"text-align: right;\">\n",
       "      <th></th>\n",
       "      <th>Country Name</th>\n",
       "      <th>Percent Safe Water</th>\n",
       "      <th>Country Name</th>\n",
       "      <th>Average Age</th>\n",
       "    </tr>\n",
       "    <tr>\n",
       "      <th>Year</th>\n",
       "      <th></th>\n",
       "      <th></th>\n",
       "      <th></th>\n",
       "      <th></th>\n",
       "    </tr>\n",
       "  </thead>\n",
       "  <tbody>\n",
       "    <tr>\n",
       "      <th>2001</th>\n",
       "      <td>NaN</td>\n",
       "      <td>NaN</td>\n",
       "      <td>United States</td>\n",
       "      <td>76.836585</td>\n",
       "    </tr>\n",
       "    <tr>\n",
       "      <th>2002</th>\n",
       "      <td>NaN</td>\n",
       "      <td>NaN</td>\n",
       "      <td>United States</td>\n",
       "      <td>76.936585</td>\n",
       "    </tr>\n",
       "    <tr>\n",
       "      <th>2003</th>\n",
       "      <td>NaN</td>\n",
       "      <td>NaN</td>\n",
       "      <td>United States</td>\n",
       "      <td>77.036585</td>\n",
       "    </tr>\n",
       "    <tr>\n",
       "      <th>2004</th>\n",
       "      <td>NaN</td>\n",
       "      <td>NaN</td>\n",
       "      <td>United States</td>\n",
       "      <td>77.487805</td>\n",
       "    </tr>\n",
       "    <tr>\n",
       "      <th>2005</th>\n",
       "      <td>United States</td>\n",
       "      <td>98.942332</td>\n",
       "      <td>United States</td>\n",
       "      <td>77.487805</td>\n",
       "    </tr>\n",
       "    <tr>\n",
       "      <th>2006</th>\n",
       "      <td>United States</td>\n",
       "      <td>98.947103</td>\n",
       "      <td>United States</td>\n",
       "      <td>77.687805</td>\n",
       "    </tr>\n",
       "    <tr>\n",
       "      <th>2007</th>\n",
       "      <td>United States</td>\n",
       "      <td>98.951852</td>\n",
       "      <td>United States</td>\n",
       "      <td>77.987805</td>\n",
       "    </tr>\n",
       "    <tr>\n",
       "      <th>2008</th>\n",
       "      <td>United States</td>\n",
       "      <td>98.956569</td>\n",
       "      <td>United States</td>\n",
       "      <td>78.039024</td>\n",
       "    </tr>\n",
       "    <tr>\n",
       "      <th>2009</th>\n",
       "      <td>United States</td>\n",
       "      <td>98.961258</td>\n",
       "      <td>United States</td>\n",
       "      <td>78.390244</td>\n",
       "    </tr>\n",
       "    <tr>\n",
       "      <th>2010</th>\n",
       "      <td>United States</td>\n",
       "      <td>98.965887</td>\n",
       "      <td>United States</td>\n",
       "      <td>78.541463</td>\n",
       "    </tr>\n",
       "    <tr>\n",
       "      <th>2011</th>\n",
       "      <td>United States</td>\n",
       "      <td>98.970687</td>\n",
       "      <td>United States</td>\n",
       "      <td>78.641463</td>\n",
       "    </tr>\n",
       "    <tr>\n",
       "      <th>2012</th>\n",
       "      <td>United States</td>\n",
       "      <td>98.975572</td>\n",
       "      <td>United States</td>\n",
       "      <td>78.741463</td>\n",
       "    </tr>\n",
       "    <tr>\n",
       "      <th>2013</th>\n",
       "      <td>United States</td>\n",
       "      <td>98.980598</td>\n",
       "      <td>United States</td>\n",
       "      <td>78.741463</td>\n",
       "    </tr>\n",
       "    <tr>\n",
       "      <th>2014</th>\n",
       "      <td>United States</td>\n",
       "      <td>98.985731</td>\n",
       "      <td>United States</td>\n",
       "      <td>78.841463</td>\n",
       "    </tr>\n",
       "    <tr>\n",
       "      <th>2015</th>\n",
       "      <td>United States</td>\n",
       "      <td>98.990978</td>\n",
       "      <td>United States</td>\n",
       "      <td>78.690244</td>\n",
       "    </tr>\n",
       "    <tr>\n",
       "      <th>2016</th>\n",
       "      <td>United States</td>\n",
       "      <td>98.996310</td>\n",
       "      <td>United States</td>\n",
       "      <td>78.539024</td>\n",
       "    </tr>\n",
       "    <tr>\n",
       "      <th>2017</th>\n",
       "      <td>United States</td>\n",
       "      <td>99.001778</td>\n",
       "      <td>United States</td>\n",
       "      <td>78.539024</td>\n",
       "    </tr>\n",
       "  </tbody>\n",
       "</table>\n",
       "</div>"
      ],
      "text/plain": [
       "       Country Name  Percent Safe Water   Country Name  Average Age\n",
       "Year                                                               \n",
       "2001            NaN                 NaN  United States    76.836585\n",
       "2002            NaN                 NaN  United States    76.936585\n",
       "2003            NaN                 NaN  United States    77.036585\n",
       "2004            NaN                 NaN  United States    77.487805\n",
       "2005  United States           98.942332  United States    77.487805\n",
       "2006  United States           98.947103  United States    77.687805\n",
       "2007  United States           98.951852  United States    77.987805\n",
       "2008  United States           98.956569  United States    78.039024\n",
       "2009  United States           98.961258  United States    78.390244\n",
       "2010  United States           98.965887  United States    78.541463\n",
       "2011  United States           98.970687  United States    78.641463\n",
       "2012  United States           98.975572  United States    78.741463\n",
       "2013  United States           98.980598  United States    78.741463\n",
       "2014  United States           98.985731  United States    78.841463\n",
       "2015  United States           98.990978  United States    78.690244\n",
       "2016  United States           98.996310  United States    78.539024\n",
       "2017  United States           99.001778  United States    78.539024"
      ]
     },
     "execution_count": 23,
     "metadata": {},
     "output_type": "execute_result"
    }
   ],
   "source": [
    "result_US"
   ]
  },
  {
   "cell_type": "markdown",
   "metadata": {},
   "source": [
    "From this table, I observed that the United States has almost a 100% of the population drinking clean water. "
   ]
  },
  {
   "cell_type": "code",
   "execution_count": 24,
   "metadata": {},
   "outputs": [],
   "source": [
    "result_US = result_US.drop(columns=\"Country Name\")"
   ]
  },
  {
   "cell_type": "code",
   "execution_count": 25,
   "metadata": {},
   "outputs": [],
   "source": [
    "result_US = result_US.rename(columns={'Percent Safe Water':'Percent Drinking Safe Water (US)'})"
   ]
  },
  {
   "cell_type": "code",
   "execution_count": 26,
   "metadata": {},
   "outputs": [],
   "source": [
    "result_US = result_US.rename(columns={'Average Age':'Average Life Expectancy (US)'})"
   ]
  },
  {
   "cell_type": "code",
   "execution_count": 27,
   "metadata": {
    "scrolled": true
   },
   "outputs": [
    {
     "data": {
      "text/plain": [
       "<matplotlib.axes._subplots.AxesSubplot at 0x11eb54850>"
      ]
     },
     "execution_count": 27,
     "metadata": {},
     "output_type": "execute_result"
    },
    {
     "data": {
      "image/png": "[encoded data removed]",
      "text/plain": [
       "<Figure size 432x288 with 1 Axes>"
      ]
     },
     "metadata": {
      "needs_background": "light"
     },
     "output_type": "display_data"
    }
   ],
   "source": [
    "result_US.plot(y= ['Percent Drinking Safe Water (US)', 'Average Life Expectancy (US)'], title='US')"
   ]
  },
  {
   "cell_type": "markdown",
   "metadata": {},
   "source": [
    "For the United States, I observed no evident trend in life expectancy and clean drinking water. So, even though this graph does not show much, I think it is still useful to see that the US has almost 100% of people drinking safe water. Therefore, since the percent of people drinking safe water remains steady, it is difficult to infer what correlation is produced between the average life expectacy and the percentage of people drinking safe water. "
   ]
  },
  {
   "cell_type": "code",
   "execution_count": 28,
   "metadata": {},
   "outputs": [],
   "source": [
    "result_all = pd.concat([result_US,result_N], axis=1, sort=False)"
   ]
  },
  {
   "cell_type": "markdown",
   "metadata": {},
   "source": [
    "Next, I combined the data for Nigeria and the United States. "
   ]
  },
  {
   "cell_type": "markdown",
   "metadata": {},
   "source": [
    "## Average Life Expectancy and the Percentage of People Drinking Clean Water in the United States and Nigeria"
   ]
  },
  {
   "cell_type": "code",
   "execution_count": 29,
   "metadata": {},
   "outputs": [
    {
     "data": {
      "text/html": [
       "<div>\n",
       "<style scoped>\n",
       "    .dataframe tbody tr th:only-of-type {\n",
       "        vertical-align: middle;\n",
       "    }\n",
       "\n",
       "    .dataframe tbody tr th {\n",
       "        vertical-align: top;\n",
       "    }\n",
       "\n",
       "    .dataframe thead th {\n",
       "        text-align: right;\n",
       "    }\n",
       "</style>\n",
       "<table border=\"1\" class=\"dataframe\">\n",
       "  <thead>\n",
       "    <tr style=\"text-align: right;\">\n",
       "      <th></th>\n",
       "      <th>Percent Drinking Safe Water (US)</th>\n",
       "      <th>Average Life Expectancy (US)</th>\n",
       "      <th>Percent Drinking Safe Water (N)</th>\n",
       "      <th>Average Life Expectancy (N)</th>\n",
       "    </tr>\n",
       "    <tr>\n",
       "      <th>Year</th>\n",
       "      <th></th>\n",
       "      <th></th>\n",
       "      <th></th>\n",
       "      <th></th>\n",
       "    </tr>\n",
       "  </thead>\n",
       "  <tbody>\n",
       "    <tr>\n",
       "      <th>2001</th>\n",
       "      <td>NaN</td>\n",
       "      <td>76.836585</td>\n",
       "      <td>15.747336</td>\n",
       "      <td>46.510</td>\n",
       "    </tr>\n",
       "    <tr>\n",
       "      <th>2002</th>\n",
       "      <td>NaN</td>\n",
       "      <td>76.936585</td>\n",
       "      <td>16.064639</td>\n",
       "      <td>46.835</td>\n",
       "    </tr>\n",
       "    <tr>\n",
       "      <th>2003</th>\n",
       "      <td>NaN</td>\n",
       "      <td>77.036585</td>\n",
       "      <td>16.376387</td>\n",
       "      <td>47.242</td>\n",
       "    </tr>\n",
       "    <tr>\n",
       "      <th>2004</th>\n",
       "      <td>NaN</td>\n",
       "      <td>77.487805</td>\n",
       "      <td>16.682519</td>\n",
       "      <td>47.720</td>\n",
       "    </tr>\n",
       "    <tr>\n",
       "      <th>2005</th>\n",
       "      <td>98.942332</td>\n",
       "      <td>77.487805</td>\n",
       "      <td>16.982870</td>\n",
       "      <td>48.252</td>\n",
       "    </tr>\n",
       "    <tr>\n",
       "      <th>2006</th>\n",
       "      <td>98.947103</td>\n",
       "      <td>77.687805</td>\n",
       "      <td>17.277628</td>\n",
       "      <td>48.812</td>\n",
       "    </tr>\n",
       "    <tr>\n",
       "      <th>2007</th>\n",
       "      <td>98.951852</td>\n",
       "      <td>77.987805</td>\n",
       "      <td>17.566862</td>\n",
       "      <td>49.373</td>\n",
       "    </tr>\n",
       "    <tr>\n",
       "      <th>2008</th>\n",
       "      <td>98.956569</td>\n",
       "      <td>78.039024</td>\n",
       "      <td>17.850645</td>\n",
       "      <td>49.913</td>\n",
       "    </tr>\n",
       "    <tr>\n",
       "      <th>2009</th>\n",
       "      <td>98.961258</td>\n",
       "      <td>78.390244</td>\n",
       "      <td>18.128638</td>\n",
       "      <td>50.422</td>\n",
       "    </tr>\n",
       "    <tr>\n",
       "      <th>2010</th>\n",
       "      <td>98.965887</td>\n",
       "      <td>78.541463</td>\n",
       "      <td>18.401244</td>\n",
       "      <td>50.896</td>\n",
       "    </tr>\n",
       "    <tr>\n",
       "      <th>2011</th>\n",
       "      <td>98.970687</td>\n",
       "      <td>78.641463</td>\n",
       "      <td>18.667351</td>\n",
       "      <td>51.346</td>\n",
       "    </tr>\n",
       "    <tr>\n",
       "      <th>2012</th>\n",
       "      <td>98.975572</td>\n",
       "      <td>78.741463</td>\n",
       "      <td>18.927109</td>\n",
       "      <td>51.786</td>\n",
       "    </tr>\n",
       "    <tr>\n",
       "      <th>2013</th>\n",
       "      <td>98.980598</td>\n",
       "      <td>78.741463</td>\n",
       "      <td>19.180478</td>\n",
       "      <td>52.228</td>\n",
       "    </tr>\n",
       "    <tr>\n",
       "      <th>2014</th>\n",
       "      <td>98.985731</td>\n",
       "      <td>78.841463</td>\n",
       "      <td>19.427614</td>\n",
       "      <td>52.672</td>\n",
       "    </tr>\n",
       "    <tr>\n",
       "      <th>2015</th>\n",
       "      <td>98.990978</td>\n",
       "      <td>78.690244</td>\n",
       "      <td>19.668675</td>\n",
       "      <td>53.112</td>\n",
       "    </tr>\n",
       "    <tr>\n",
       "      <th>2016</th>\n",
       "      <td>98.996310</td>\n",
       "      <td>78.539024</td>\n",
       "      <td>19.903542</td>\n",
       "      <td>53.541</td>\n",
       "    </tr>\n",
       "    <tr>\n",
       "      <th>2017</th>\n",
       "      <td>99.001778</td>\n",
       "      <td>78.539024</td>\n",
       "      <td>20.132560</td>\n",
       "      <td>53.950</td>\n",
       "    </tr>\n",
       "  </tbody>\n",
       "</table>\n",
       "</div>"
      ],
      "text/plain": [
       "      Percent Drinking Safe Water (US)  Average Life Expectancy (US)  \\\n",
       "Year                                                                   \n",
       "2001                               NaN                     76.836585   \n",
       "2002                               NaN                     76.936585   \n",
       "2003                               NaN                     77.036585   \n",
       "2004                               NaN                     77.487805   \n",
       "2005                         98.942332                     77.487805   \n",
       "2006                         98.947103                     77.687805   \n",
       "2007                         98.951852                     77.987805   \n",
       "2008                         98.956569                     78.039024   \n",
       "2009                         98.961258                     78.390244   \n",
       "2010                         98.965887                     78.541463   \n",
       "2011                         98.970687                     78.641463   \n",
       "2012                         98.975572                     78.741463   \n",
       "2013                         98.980598                     78.741463   \n",
       "2014                         98.985731                     78.841463   \n",
       "2015                         98.990978                     78.690244   \n",
       "2016                         98.996310                     78.539024   \n",
       "2017                         99.001778                     78.539024   \n",
       "\n",
       "      Percent Drinking Safe Water (N)  Average Life Expectancy (N)  \n",
       "Year                                                                \n",
       "2001                        15.747336                       46.510  \n",
       "2002                        16.064639                       46.835  \n",
       "2003                        16.376387                       47.242  \n",
       "2004                        16.682519                       47.720  \n",
       "2005                        16.982870                       48.252  \n",
       "2006                        17.277628                       48.812  \n",
       "2007                        17.566862                       49.373  \n",
       "2008                        17.850645                       49.913  \n",
       "2009                        18.128638                       50.422  \n",
       "2010                        18.401244                       50.896  \n",
       "2011                        18.667351                       51.346  \n",
       "2012                        18.927109                       51.786  \n",
       "2013                        19.180478                       52.228  \n",
       "2014                        19.427614                       52.672  \n",
       "2015                        19.668675                       53.112  \n",
       "2016                        19.903542                       53.541  \n",
       "2017                        20.132560                       53.950  "
      ]
     },
     "execution_count": 29,
     "metadata": {},
     "output_type": "execute_result"
    }
   ],
   "source": [
    "result_all"
   ]
  },
  {
   "cell_type": "markdown",
   "metadata": {},
   "source": [
    "I plotted the results for Nigeria and United States to see how the data compared between the counties. "
   ]
  },
  {
   "cell_type": "markdown",
   "metadata": {},
   "source": [
    "## Average Life Expectancy and the Percentage of People Drinking Clean Water in the United States and Nigeria Graphed"
   ]
  },
  {
   "cell_type": "code",
   "execution_count": 30,
   "metadata": {},
   "outputs": [
    {
     "data": {
      "text/plain": [
       "<matplotlib.axes._subplots.AxesSubplot at 0x11ecd3e80>"
      ]
     },
     "execution_count": 30,
     "metadata": {},
     "output_type": "execute_result"
    },
    {
     "data": {
      "image/png": "[encoded data removed]",
      "text/plain": [
       "<Figure size 432x288 with 1 Axes>"
      ]
     },
     "metadata": {
      "needs_background": "light"
     },
     "output_type": "display_data"
    }
   ],
   "source": [
    "result_all.plot(y= ['Percent Drinking Safe Water (N)', 'Average Life Expectancy (N)','Percent Drinking Safe Water (US)', 'Average Life Expectancy (US)'], title='United States vs Nigeria')"
   ]
  },
  {
   "cell_type": "markdown",
   "metadata": {},
   "source": [
    "The y-axis is unlabeled. The values for percent drinking water range from 0% - 100% of the population. The values for average life expectancy are in years. Since the value of years ranges in between 0 and 100, it makes sense to graph all the data points together. "
   ]
  },
  {
   "cell_type": "markdown",
   "metadata": {},
   "source": [
    "With that, I was able to see the percentage of people drinking safe water is for the people in Nigeria is much lower when compared to the United States. This is showcased in the difference between the blue and green lines. I then wanted to focus on the data from a specific year between the United States and Nigeria to better visualize the disparity. I choose the year 2017 as it was the most recent year I had data. "
   ]
  },
  {
   "cell_type": "code",
   "execution_count": 31,
   "metadata": {},
   "outputs": [],
   "source": [
    "index = ['US', 'Nigeria',]"
   ]
  },
  {
   "cell_type": "code",
   "execution_count": 32,
   "metadata": {},
   "outputs": [],
   "source": [
    "water = [99.001778, 20.132560]"
   ]
  },
  {
   "cell_type": "code",
   "execution_count": 33,
   "metadata": {},
   "outputs": [],
   "source": [
    "age = [78.539024, 53.950]"
   ]
  },
  {
   "cell_type": "code",
   "execution_count": 34,
   "metadata": {},
   "outputs": [],
   "source": [
    "df = pd.DataFrame({'% drinking safe water':water, 'average life expectancy (age)' : age}, index = index)"
   ]
  },
  {
   "cell_type": "markdown",
   "metadata": {},
   "source": [
    "## Average Life Expectancy vs Percentage of People Drinking Clean Water in the United States and Nigeria in 2017"
   ]
  },
  {
   "cell_type": "code",
   "execution_count": 35,
   "metadata": {},
   "outputs": [
    {
     "data": {
      "image/png": "[encoded data removed]",
      "text/plain": [
       "<Figure size 432x288 with 1 Axes>"
      ]
     },
     "metadata": {
      "needs_background": "light"
     },
     "output_type": "display_data"
    }
   ],
   "source": [
    "ax = df.plot.bar(rot=0)"
   ]
  },
  {
   "cell_type": "markdown",
   "metadata": {},
   "source": [
    "With the blue bar, it is evident that almost 5 times the amount of people have access to clean drinking water in the United States when compared to Nigeria. It is also evident that the United States has a higher average life expectacy, by around 20 years. Therefore, I came to conclude that the aviability of safe drinking water may increase the average life expectancy.  "
   ]
  }
 ],
 "metadata": {
  "kernelspec": {
   "display_name": "Python 3",
   "language": "python",
   "name": "python3"
  },
  "language_info": {
   "codemirror_mode": {
    "name": "ipython",
    "version": 3
   },
   "file_extension": ".py",
   "mimetype": "text/x-python",
   "name": "python",
   "nbconvert_exporter": "python",
   "pygments_lexer": "ipython3",
   "version": "3.8.3"
  }
 },
 "nbformat": 4,
 "nbformat_minor": 4
}
